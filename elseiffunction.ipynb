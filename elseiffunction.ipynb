{
 "cells": [
  {
   "cell_type": "markdown",
   "metadata": {},
   "source": [
    "# ELIF"
   ]
  },
  {
   "cell_type": "markdown",
   "metadata": {},
   "source": []
  },
  {
   "cell_type": "code",
   "execution_count": 3,
   "metadata": {},
   "outputs": [
    {
     "name": "stdout",
     "output_type": "stream",
     "text": [
      "a and b are equal\n"
     ]
    }
   ],
   "source": [
    "x =45\n",
    "y =45\n",
    "if x > y :\n",
    "  print(\"b is greater than a\")\n",
    "elif x == y :\n",
    "  print(\"a and b are equal\")"
   ]
  },
  {
   "cell_type": "markdown",
   "metadata": {},
   "source": [
    "# Else"
   ]
  },
  {
   "cell_type": "code",
   "execution_count": 4,
   "metadata": {},
   "outputs": [
    {
     "name": "stdout",
     "output_type": "stream",
     "text": [
      "p is greater than q\n"
     ]
    }
   ],
   "source": [
    "p = 450\n",
    "q = 75\n",
    "if q > p:\n",
    "  print(\"q is greater than p\")\n",
    "elif p == q:\n",
    "  print(\"p and q are equal\")\n",
    "else:\n",
    "  print(\"p is greater than q\")"
   ]
  },
  {
   "cell_type": "code",
   "execution_count": 6,
   "metadata": {},
   "outputs": [],
   "source": [
    " # Nested if"
   ]
  },
  {
   "cell_type": "markdown",
   "metadata": {},
   "source": [
    " # Nested if"
   ]
  },
  {
   "cell_type": "markdown",
   "metadata": {},
   "source": [
    "* You can have if statements inside if statements, this is called nested if statements."
   ]
  },
  {
   "cell_type": "code",
   "execution_count": 7,
   "metadata": {},
   "outputs": [
    {
     "name": "stdout",
     "output_type": "stream",
     "text": [
      "Above twenty five,\n",
      "and also above 80\n"
     ]
    }
   ],
   "source": [
    "x = 89\n",
    "if x > 25:\n",
    "  print(\"Above twenty five,\")\n",
    "  if x > 20:\n",
    "    print(\"and also above 80\")\n",
    "  else:\n",
    "    print(\"but not above or near equal to 80\")"
   ]
  },
  {
   "cell_type": "markdown",
   "metadata": {},
   "source": [
    "# MY FUNCTION "
   ]
  },
  {
   "cell_type": "code",
   "execution_count": 8,
   "metadata": {},
   "outputs": [
    {
     "name": "stdout",
     "output_type": "stream",
     "text": [
      "This is my time\n"
     ]
    }
   ],
   "source": [
    "def my_self():\n",
    "  print(\"This is my time\")\n",
    "my_self()"
   ]
  },
  {
   "cell_type": "markdown",
   "metadata": {},
   "source": [
    "# Passing list as argument"
   ]
  },
  {
   "cell_type": "markdown",
   "metadata": {},
   "source": [
    "def my_rule(city):\n",
    "  for x in city:\n",
    "    print(x)\n",
    "\n",
    "city = [\"nagpur\", \"pune\", \"mumbai\"]\n",
    "print(my_rule)"
   ]
  },
  {
   "cell_type": "code",
   "execution_count": 11,
   "metadata": {},
   "outputs": [
    {
     "name": "stdout",
     "output_type": "stream",
     "text": [
      "['nagpur', 'pune', 'mumbai']\n"
     ]
    }
   ],
   "source": [
    "def my_rule(city):\n",
    "  for x in city:\n",
    "    print(x)\n",
    "\n",
    "mhcity = [\"nagpur\", \"pune\", \"mumbai\"]\n",
    "print(mhcity)"
   ]
  },
  {
   "cell_type": "markdown",
   "metadata": {},
   "source": [
    "# Create a function using Trim operation"
   ]
  },
  {
   "cell_type": "code",
   "execution_count": 14,
   "metadata": {},
   "outputs": [
    {
     "name": "stdout",
     "output_type": "stream",
     "text": [
      "complete text: myrule , myworld\n"
     ]
    }
   ],
   "source": [
    "def trim_mix(text):\n",
    "    return text.strip() \n",
    "text_with_spaces = \"   myrule , myworld   \"\n",
    "complete_text = trim_mix(text_with_spaces)\n",
    "print(\"complete text:\", complete_text)"
   ]
  },
  {
   "cell_type": "markdown",
   "metadata": {},
   "source": [
    "# Creating a function using Substitute operation"
   ]
  },
  {
   "cell_type": "code",
   "execution_count": 1,
   "metadata": {},
   "outputs": [
    {
     "name": "stdout",
     "output_type": "stream",
     "text": [
      "Substituted text: I want to become data scientist . data scientist is popular job.\n"
     ]
    }
   ],
   "source": [
    "def full_text(text, old, new):\n",
    "    return text.replace(old, new)\n",
    "original_text = \"I want to become data analyst . data analyst is popular job.\"\n",
    "substituted_text = full_text(original_text, \"data analyst\", \"data scientist\")\n",
    "print(\"Substituted text:\", substituted_text)"
   ]
  },
  {
   "cell_type": "markdown",
   "metadata": {},
   "source": [
    " # Create a function using cut and return specific position of string"
   ]
  },
  {
   "cell_type": "code",
   "execution_count": 2,
   "metadata": {},
   "outputs": [
    {
     "name": "stdout",
     "output_type": "stream",
     "text": [
      "Substring: alyst is po\n"
     ]
    }
   ],
   "source": [
    "def get_substring(text, a, b):\n",
    "    return text[a:b]\n",
    "t1 = \"data analyst is popular job\"\n",
    "substring = get_substring(t1, 7, 18)\n",
    "print(\"Substring:\", substring)"
   ]
  },
  {
   "cell_type": "code",
   "execution_count": null,
   "metadata": {},
   "outputs": [],
   "source": []
  }
 ],
 "metadata": {
  "kernelspec": {
   "display_name": "Python 3",
   "language": "python",
   "name": "python3"
  },
  "language_info": {
   "codemirror_mode": {
    "name": "ipython",
    "version": 3
   },
   "file_extension": ".py",
   "mimetype": "text/x-python",
   "name": "python",
   "nbconvert_exporter": "python",
   "pygments_lexer": "ipython3",
   "version": "3.12.3"
  }
 },
 "nbformat": 4,
 "nbformat_minor": 2
}

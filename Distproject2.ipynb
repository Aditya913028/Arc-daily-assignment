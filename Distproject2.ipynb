{
 "cells": [
  {
   "cell_type": "code",
   "execution_count": null,
   "id": "90f51860-e9a6-4c36-88f1-465a3a03c5ab",
   "metadata": {},
   "outputs": [],
   "source": [
    "#Distonary\n"
   ]
  },
  {
   "cell_type": "code",
   "execution_count": 11,
   "id": "e152033a-cb42-4ae6-909f-8846c22d1cb7",
   "metadata": {},
   "outputs": [],
   "source": [
    "username =\t{\n",
    "  \"name\": \"aditya\",\n",
    "  \"surname\": \"shende\",\n",
    "  \"year\": 2005\n",
    "}"
   ]
  },
  {
   "cell_type": "code",
   "execution_count": 12,
   "id": "45e5717a-4db2-498f-a5fc-6da4a30c4006",
   "metadata": {},
   "outputs": [],
   "source": [
    "username.clear()"
   ]
  },
  {
   "cell_type": "code",
   "execution_count": 17,
   "id": "566ff8d7-526a-4ab9-8ae8-14fb6b302bcf",
   "metadata": {},
   "outputs": [
    {
     "name": "stdout",
     "output_type": "stream",
     "text": [
      "{}\n"
     ]
    }
   ],
   "source": [
    "print(username)"
   ]
  },
  {
   "cell_type": "code",
   "execution_count": 10,
   "id": "d03d4e89-ecff-44dc-8e29-94da1530eaac",
   "metadata": {},
   "outputs": [],
   "source": [
    "#Copy"
   ]
  },
  {
   "cell_type": "code",
   "execution_count": 31,
   "id": "52c2f3aa-d516-4ab9-b0c1-2df42a2a2c46",
   "metadata": {},
   "outputs": [
    {
     "name": "stdout",
     "output_type": "stream",
     "text": [
      "{'name': 'aditya', 'surname': 'shende', 'year': 2005}\n"
     ]
    }
   ],
   "source": [
    "usernames = {\n",
    "  \"name\": \"aditya\",\n",
    "  \"surname\": \"shende\",\n",
    "  \"year\": 2005\n",
    "}\n",
    "\n",
    "z = usernames.copy()\n",
    "\n",
    "print(z)"
   ]
  },
  {
   "cell_type": "code",
   "execution_count": 18,
   "id": "ec938833-368c-463a-8d33-b639dd9cae6b",
   "metadata": {},
   "outputs": [],
   "source": [
    "#From key"
   ]
  },
  {
   "cell_type": "code",
   "execution_count": 25,
   "id": "4fa23113-ac5a-41ae-94c7-673d89a69832",
   "metadata": {},
   "outputs": [],
   "source": [
    "m = ('nagpur','pune','amravti')\n",
    "n = \"city\"\n",
    "thiscity = dict.fromkeys(m, n)\n"
   ]
  },
  {
   "cell_type": "code",
   "execution_count": 26,
   "id": "5975fefe-93f7-4c09-8e33-7f024d75fc20",
   "metadata": {},
   "outputs": [
    {
     "name": "stdout",
     "output_type": "stream",
     "text": [
      "{'nagpur': 'city', 'pune': 'city', 'amravti': 'city'}\n"
     ]
    }
   ],
   "source": [
    "print(thiscity)"
   ]
  },
  {
   "cell_type": "code",
   "execution_count": 27,
   "id": "3ba3dcce-4692-43d1-877a-ec22d2c821dc",
   "metadata": {},
   "outputs": [],
   "source": [
    "# Get"
   ]
  },
  {
   "cell_type": "code",
   "execution_count": 28,
   "id": "3e4a5ff2-aab9-4c74-bf35-7a144ab53bec",
   "metadata": {},
   "outputs": [],
   "source": [
    "# return the value of key"
   ]
  },
  {
   "cell_type": "code",
   "execution_count": 33,
   "id": "603e3b4b-3cfe-4b33-a751-abd05183d8b3",
   "metadata": {},
   "outputs": [
    {
     "name": "stdout",
     "output_type": "stream",
     "text": [
      "aditya\n"
     ]
    }
   ],
   "source": [
    "username =\t{\n",
    "  \"name\": \"aditya\",\n",
    "  \"surname\": \"shende\",\n",
    "  \"year\": 2005\n",
    "}\n",
    "\n",
    "x = username.get(\"name\")\n",
    "\n",
    "print(x)"
   ]
  },
  {
   "cell_type": "code",
   "execution_count": 34,
   "id": "f459bab3-6467-4429-9e43-12a355780353",
   "metadata": {},
   "outputs": [
    {
     "name": "stdout",
     "output_type": "stream",
     "text": [
      "shende\n"
     ]
    }
   ],
   "source": [
    "x = username.get(\"surname\")\n",
    "print(x)"
   ]
  },
  {
   "cell_type": "markdown",
   "id": "5bb581db-9c6c-4c63-8d97-0f5ad7c47ee3",
   "metadata": {},
   "source": [
    "#Item method"
   ]
  },
  {
   "cell_type": "code",
   "execution_count": 36,
   "id": "c499d5b0-f2f9-4ada-9511-8a6409bb8187",
   "metadata": {},
   "outputs": [],
   "source": [
    "username =\t{\n",
    "  \"name\": \"aditya\",\n",
    "  \"surname\": \"shende\",\n",
    "  \"year\": 2005\n",
    "}"
   ]
  },
  {
   "cell_type": "code",
   "execution_count": 38,
   "id": "9536be58-2697-4994-9b83-4633a1faefc2",
   "metadata": {},
   "outputs": [],
   "source": [
    "t = username.items()"
   ]
  },
  {
   "cell_type": "code",
   "execution_count": 39,
   "id": "4ed86b34-1242-43ce-9709-9931bb030a1f",
   "metadata": {},
   "outputs": [
    {
     "name": "stdout",
     "output_type": "stream",
     "text": [
      "dict_items([('name', 'aditya'), ('surname', 'shende'), ('year', 2005)])\n"
     ]
    }
   ],
   "source": [
    "print(t)"
   ]
  },
  {
   "cell_type": "code",
   "execution_count": 40,
   "id": "39055047-709a-4a7b-8e41-b132ae7fd05c",
   "metadata": {},
   "outputs": [],
   "source": [
    "# Key"
   ]
  },
  {
   "cell_type": "code",
   "execution_count": 41,
   "id": "fabd4b45-274b-4476-83fe-df86f6205bfa",
   "metadata": {},
   "outputs": [],
   "source": [
    "username =\t{\n",
    "  \"name\": \"aditya\",\n",
    "  \"surname\": \"shende\",\n",
    "  \"year\": 2005\n",
    "}"
   ]
  },
  {
   "cell_type": "code",
   "execution_count": 42,
   "id": "9c14461d-e16b-4238-8fb5-e6f41811515c",
   "metadata": {},
   "outputs": [],
   "source": [
    "x = username.keys()"
   ]
  },
  {
   "cell_type": "code",
   "execution_count": 43,
   "id": "8a1b8571-630c-4551-a15e-309509eb4ab5",
   "metadata": {},
   "outputs": [
    {
     "name": "stdout",
     "output_type": "stream",
     "text": [
      "dict_keys(['name', 'surname', 'year'])\n"
     ]
    }
   ],
   "source": [
    "print(x)"
   ]
  },
  {
   "cell_type": "markdown",
   "id": "b7e07c06-87c4-4ea2-8aa4-b89a8ea714d6",
   "metadata": {},
   "source": [
    "####POP method"
   ]
  },
  {
   "cell_type": "markdown",
   "id": "33e290ce-3dab-4f4a-8816-1f0a00ab6144",
   "metadata": {},
   "source": [
    "# POP method"
   ]
  },
  {
   "cell_type": "code",
   "execution_count": 44,
   "id": "aafed39d-d7b3-45be-858f-5633f3effb3f",
   "metadata": {},
   "outputs": [],
   "source": [
    "username =\t{\n",
    "  \"name\": \"aditya\",\n",
    "  \"surname\": \"shende\",\n",
    "  \"year\": 2005\n",
    "}"
   ]
  },
  {
   "cell_type": "code",
   "execution_count": 48,
   "id": "f36842bc-8d19-4880-9e1d-889d406c13c7",
   "metadata": {},
   "outputs": [],
   "source": [
    "x = username.pop(\"name\")"
   ]
  },
  {
   "cell_type": "code",
   "execution_count": 49,
   "id": "b6613cba-96b1-4968-907d-fe8e21e178e4",
   "metadata": {},
   "outputs": [
    {
     "name": "stdout",
     "output_type": "stream",
     "text": [
      "{'surname': 'shende', 'year': 2005}\n"
     ]
    }
   ],
   "source": [
    "print(username)"
   ]
  },
  {
   "cell_type": "code",
   "execution_count": 50,
   "id": "cbd0d750-178d-4c36-adad-dc4e61b8b820",
   "metadata": {},
   "outputs": [
    {
     "data": {
      "text/plain": [
       "('year', 2005)"
      ]
     },
     "execution_count": 50,
     "metadata": {},
     "output_type": "execute_result"
    }
   ],
   "source": [
    "username =\t{\n",
    "  \"name\": \"aditya\",\n",
    "  \"surname\": \"shende\",\n",
    "  \"year\": 2005\n",
    "}\n",
    "\n",
    "username.popitem()"
   ]
  },
  {
   "cell_type": "code",
   "execution_count": 52,
   "id": "1e0419ed-1a5d-4b41-99d6-47415d3f413b",
   "metadata": {},
   "outputs": [
    {
     "data": {
      "text/plain": [
       "('time', 9)"
      ]
     },
     "execution_count": 52,
     "metadata": {},
     "output_type": "execute_result"
    }
   ],
   "source": [
    "usernames =\t{\n",
    "  \"name\": \"aditya\",\n",
    "  \"surname\": \"shende\",\n",
    "  \"year\": 2005,\n",
    "  \"time\": 9\n",
    "}\n",
    "usernames.popitem()"
   ]
  },
  {
   "cell_type": "code",
   "execution_count": 53,
   "id": "aaa5287c-4b5a-4446-831c-574a47523aa9",
   "metadata": {},
   "outputs": [],
   "source": [
    "usernames =\t{\n",
    "  \"name\": \"aditya\",\n",
    "  \"surname\": \"shende\",\n",
    "  \"year\": 2005,\n",
    "  \"time\": 9\n",
    "}\n",
    "\n",
    "usernames.update()"
   ]
  },
  {
   "cell_type": "code",
   "execution_count": 54,
   "id": "53c6cd32-aa33-4784-af24-c418ac67126c",
   "metadata": {},
   "outputs": [
    {
     "ename": "TypeError",
     "evalue": "'dict' object is not callable",
     "output_type": "error",
     "traceback": [
      "\u001b[1;31m---------------------------------------------------------------------------\u001b[0m",
      "\u001b[1;31mTypeError\u001b[0m                                 Traceback (most recent call last)",
      "Cell \u001b[1;32mIn[54], line 1\u001b[0m\n\u001b[1;32m----> 1\u001b[0m username()\n",
      "\u001b[1;31mTypeError\u001b[0m: 'dict' object is not callable"
     ]
    }
   ],
   "source": [
    "username()"
   ]
  },
  {
   "cell_type": "code",
   "execution_count": 55,
   "id": "90f2653c-52aa-4cff-87ba-1b57a25e3154",
   "metadata": {},
   "outputs": [
    {
     "name": "stdout",
     "output_type": "stream",
     "text": [
      "{'name': 'aditya', 'surname': 'shende', 'year': 2005, 'time': 9}\n"
     ]
    }
   ],
   "source": [
    "print(usernames)"
   ]
  },
  {
   "cell_type": "code",
   "execution_count": 58,
   "id": "c57ac608-fc8e-4884-a18d-25ce4281a8c0",
   "metadata": {},
   "outputs": [],
   "source": [
    "usernames.update({\"galabi\":\"climate\"})"
   ]
  },
  {
   "cell_type": "code",
   "execution_count": 59,
   "id": "69b737be-8598-4269-81ea-b7ddb9ba95b0",
   "metadata": {},
   "outputs": [
    {
     "ename": "SyntaxError",
     "evalue": "unmatched ')' (663794519.py, line 1)",
     "output_type": "error",
     "traceback": [
      "\u001b[1;36m  Cell \u001b[1;32mIn[59], line 1\u001b[1;36m\u001b[0m\n\u001b[1;33m    print.usernames)\u001b[0m\n\u001b[1;37m                   ^\u001b[0m\n\u001b[1;31mSyntaxError\u001b[0m\u001b[1;31m:\u001b[0m unmatched ')'\n"
     ]
    }
   ],
   "source": [
    "print.usernames)"
   ]
  },
  {
   "cell_type": "code",
   "execution_count": 60,
   "id": "41e27a2c-a09b-4957-b0a2-7a76069b3f4e",
   "metadata": {},
   "outputs": [
    {
     "name": "stdout",
     "output_type": "stream",
     "text": [
      "{'name': 'aditya', 'surname': 'shende', 'year': 2005, 'time': 9, 'galabi': 'climate'}\n"
     ]
    }
   ],
   "source": [
    "print(usernames)"
   ]
  },
  {
   "cell_type": "code",
   "execution_count": null,
   "id": "4b6346f5-9d00-402a-b3ee-a43ee58a6377",
   "metadata": {},
   "outputs": [],
   "source": []
  }
 ],
 "metadata": {
  "kernelspec": {
   "display_name": "Python 3 (ipykernel)",
   "language": "python",
   "name": "python3"
  },
  "language_info": {
   "codemirror_mode": {
    "name": "ipython",
    "version": 3
   },
   "file_extension": ".py",
   "mimetype": "text/x-python",
   "name": "python",
   "nbconvert_exporter": "python",
   "pygments_lexer": "ipython3",
   "version": "3.11.7"
  }
 },
 "nbformat": 4,
 "nbformat_minor": 5
}

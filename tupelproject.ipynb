{
 "cells": [
  {
   "cell_type": "markdown",
   "id": "96aaf744-1b02-4c7c-a4e7-02d75471eca4",
   "metadata": {},
   "source": [
    "# create an empty tuple()"
   ]
  },
  {
   "cell_type": "code",
   "execution_count": 6,
   "id": "c868cb90-c1a7-4470-97a5-5e6bc67f8464",
   "metadata": {},
   "outputs": [
    {
     "name": "stdout",
     "output_type": "stream",
     "text": [
      "complete_empty_tuple: ()\n"
     ]
    }
   ],
   "source": [
    "complete_empty_tuple=()\n",
    "print(f\"complete_empty_tuple:\",complete_empty_tuple)"
   ]
  },
  {
   "cell_type": "markdown",
   "id": "bbd2a720-25e5-4c7f-9ec4-20f75701e367",
   "metadata": {},
   "source": [
    "# count u in below python code"
   ]
  },
  {
   "cell_type": "code",
   "execution_count": 5,
   "id": "13ab9226-811b-48b7-bf3a-2c2dca9c9af9",
   "metadata": {},
   "outputs": [
    {
     "name": "stdout",
     "output_type": "stream",
     "text": [
      "2\n"
     ]
    }
   ],
   "source": [
    "vowels = ('a','e','i','o','i','u','b','u')\n",
    "#count only u\n",
    "count = vowels.count('u')\n",
    "print(count)"
   ]
  },
  {
   "cell_type": "code",
   "execution_count": 8,
   "id": "5cb6cb4e-12dd-4c92-badd-101a8158fe5b",
   "metadata": {},
   "outputs": [
    {
     "name": "stdout",
     "output_type": "stream",
     "text": [
      "3\n"
     ]
    }
   ],
   "source": [
    "# tuple containing vowels \n",
    "vowels = ('a','e','i','o','u')\n",
    "# index of 'e' in vowels\n",
    "find_albhabets = vowels.index('o')\n",
    "print(find_albhabets)"
   ]
  },
  {
   "cell_type": "code",
   "execution_count": 9,
   "id": "91b36d0f-566c-4759-a83b-69816bef7bfa",
   "metadata": {},
   "outputs": [
    {
     "name": "stdout",
     "output_type": "stream",
     "text": [
      "('e', 'i', 'o', 'u')\n"
     ]
    }
   ],
   "source": [
    "print(vowels[1:])"
   ]
  },
  {
   "cell_type": "code",
   "execution_count": 11,
   "id": "7b9321a8-c8f8-44e0-9f97-b4248aca90f3",
   "metadata": {},
   "outputs": [
    {
     "name": "stdout",
     "output_type": "stream",
     "text": [
      "8\n"
     ]
    }
   ],
   "source": [
    "# python lenth of array of object\n",
    "\n",
    "abhi = [\"asbha\",\"sabha\",\"tabha\",1,2,3,\"kabha\",\"aadi\"]\n",
    "print(len(abhi))"
   ]
  },
  {
   "cell_type": "code",
   "execution_count": 18,
   "id": "0aa69c53-dd31-4b39-9755-754756f4fd68",
   "metadata": {},
   "outputs": [
    {
     "name": "stdout",
     "output_type": "stream",
     "text": [
      "8\n"
     ]
    }
   ],
   "source": [
    "print(len(abhi))"
   ]
  },
  {
   "cell_type": "markdown",
   "id": "101e1635-a942-4749-a310-9ba166618fdf",
   "metadata": {},
   "source": [
    "# MINIMUM AND MAXIMUM AND AVERAGE "
   ]
  },
  {
   "cell_type": "code",
   "execution_count": 21,
   "id": "9c9eab81-e100-4822-899d-536d05352cf8",
   "metadata": {},
   "outputs": [
    {
     "name": "stdout",
     "output_type": "stream",
     "text": [
      "585\n",
      "96\n",
      "14\n"
     ]
    }
   ],
   "source": [
    "my_favroute_tuple = (56,89,32,15,96,23,78,62,15,14,15,16,17,18,19,20)\n",
    "print(sum(my_favroute_tuple))\n",
    "print(max(my_favroute_tuple))\n",
    "print(min(my_favroute_tuple))"
   ]
  },
  {
   "cell_type": "code",
   "execution_count": 23,
   "id": "7f825d9a-4a12-4a81-8c47-25b44e2d5223",
   "metadata": {},
   "outputs": [
    {
     "name": "stdout",
     "output_type": "stream",
     "text": [
      "16\n"
     ]
    }
   ],
   "source": [
    "lengtho = print(len(my_favroute_tuple))"
   ]
  },
  {
   "cell_type": "code",
   "execution_count": 26,
   "id": "ba743218-83fb-4630-b3e3-27d49b7d87ab",
   "metadata": {},
   "outputs": [
    {
     "name": "stdout",
     "output_type": "stream",
     "text": [
      "this is my average: 36.5625\n"
     ]
    }
   ],
   "source": [
    "average = sum(my_favroute_tuple) / len(my_favroute_tuple)\n",
    "print(f\"this is my average:\",average)"
   ]
  },
  {
   "cell_type": "code",
   "execution_count": 27,
   "id": "f397f199-346d-443c-bfdc-059c5be40f8e",
   "metadata": {},
   "outputs": [
    {
     "data": {
      "text/plain": [
       "16"
      ]
     },
     "execution_count": 27,
     "metadata": {},
     "output_type": "execute_result"
    }
   ],
   "source": [
    "len(my_favroute_tuple)"
   ]
  },
  {
   "cell_type": "code",
   "execution_count": null,
   "id": "71803ab0-88a1-497b-92a0-5c1e24d91498",
   "metadata": {},
   "outputs": [],
   "source": []
  }
 ],
 "metadata": {
  "kernelspec": {
   "display_name": "Python 3 (ipykernel)",
   "language": "python",
   "name": "python3"
  },
  "language_info": {
   "codemirror_mode": {
    "name": "ipython",
    "version": 3
   },
   "file_extension": ".py",
   "mimetype": "text/x-python",
   "name": "python",
   "nbconvert_exporter": "python",
   "pygments_lexer": "ipython3",
   "version": "3.11.7"
  }
 },
 "nbformat": 4,
 "nbformat_minor": 5
}

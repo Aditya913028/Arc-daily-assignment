{
 "cells": [
  {
   "cell_type": "code",
   "execution_count": 34,
   "id": "e8b3eae4-a293-4f50-b8f9-882a375c1299",
   "metadata": {},
   "outputs": [
    {
     "name": "stdout",
     "output_type": "stream",
     "text": [
      "(5, 10, 15, 20, 25)\n"
     ]
    }
   ],
   "source": [
    "number = (5, 10, 15, 20, 25)\n",
    "print(number)\n"
   ]
  },
  {
   "cell_type": "code",
   "execution_count": null,
   "id": "ce5c40e3-86c5-41a3-9f6f-5e01bae17cef",
   "metadata": {},
   "outputs": [],
   "source": [
    "# average "
   ]
  },
  {
   "cell_type": "code",
   "execution_count": 21,
   "id": "2a405df3-68d2-417b-a1ec-b5e7f29f3a63",
   "metadata": {},
   "outputs": [],
   "source": [
    "numbers = [20, 25, 30, 35, 40]"
   ]
  },
  {
   "cell_type": "code",
   "execution_count": 22,
   "id": "391fba52-f1a8-46f7-94e4-ad8c81ee0356",
   "metadata": {},
   "outputs": [],
   "source": [
    "total_sum = sum(numbers)"
   ]
  },
  {
   "cell_type": "code",
   "execution_count": 23,
   "id": "4be7238b-ba84-4ad0-9fe8-943e079dcc34",
   "metadata": {},
   "outputs": [],
   "source": [
    "count = len(numbers)"
   ]
  },
  {
   "cell_type": "code",
   "execution_count": 24,
   "id": "387e2b9a-0bef-4d6d-8d80-dc0f87463700",
   "metadata": {},
   "outputs": [],
   "source": [
    "average = total_sum / count"
   ]
  },
  {
   "cell_type": "code",
   "execution_count": 25,
   "id": "b6e9aa5f-9c85-44fb-bc2f-7c99770f681a",
   "metadata": {},
   "outputs": [
    {
     "name": "stdout",
     "output_type": "stream",
     "text": [
      "The average is: 30.0\n"
     ]
    }
   ],
   "source": [
    "print(f\"The average is:\", average)"
   ]
  },
  {
   "cell_type": "code",
   "execution_count": null,
   "id": "d1b78ffd-303e-4391-a956-08536fa2e6cc",
   "metadata": {},
   "outputs": [],
   "source": [
    "# Minimum"
   ]
  },
  {
   "cell_type": "code",
   "execution_count": 29,
   "id": "7d65beeb-3fd3-4bff-84eb-54f15c850e74",
   "metadata": {},
   "outputs": [],
   "source": [
    "num = ( 925,12556,8455,41941,511,47987,8589,231561,8212517,50215210)"
   ]
  },
  {
   "cell_type": "code",
   "execution_count": 30,
   "id": "26feede8-088a-4817-9c81-ea9acd004469",
   "metadata": {},
   "outputs": [
    {
     "data": {
      "text/plain": [
       "511"
      ]
     },
     "execution_count": 30,
     "metadata": {},
     "output_type": "execute_result"
    }
   ],
   "source": [
    "min(num)"
   ]
  },
  {
   "cell_type": "code",
   "execution_count": 31,
   "id": "d4a03f46-d37b-4193-b96e-03c490915bf1",
   "metadata": {},
   "outputs": [
    {
     "data": {
      "text/plain": [
       "50215210"
      ]
     },
     "execution_count": 31,
     "metadata": {},
     "output_type": "execute_result"
    }
   ],
   "source": [
    "max(num)"
   ]
  },
  {
   "cell_type": "code",
   "execution_count": 32,
   "id": "5d163d31-87cd-4c71-9b35-12bab99832ec",
   "metadata": {},
   "outputs": [],
   "source": [
    "my_list = (\"ahebfuygdsb\",\"sbuysfubc\",\"davgdyvcd\",\"diiduyvuasvcde\")"
   ]
  },
  {
   "cell_type": "code",
   "execution_count": 33,
   "id": "3fe79b77-3ea4-4231-a8aa-61c4df6c0d4f",
   "metadata": {},
   "outputs": [
    {
     "name": "stdout",
     "output_type": "stream",
     "text": [
      "('ahebfuygdsb', 'sbuysfubc', 'davgdyvcd', 'diiduyvuasvcde')\n"
     ]
    }
   ],
   "source": [
    "print(my_list)"
   ]
  },
  {
   "cell_type": "code",
   "execution_count": 35,
   "id": "489463e1-4a2f-4788-ab17-4f27e3a3601d",
   "metadata": {},
   "outputs": [],
   "source": [
    "my_list = (\"ahebfuygdsb\",\"sbuysfubc\",\"davgdyvcd\",\"diiduyvuasvcde\")"
   ]
  },
  {
   "cell_type": "code",
   "execution_count": 37,
   "id": "2879f648-fa61-4492-ab84-b144318213b1",
   "metadata": {},
   "outputs": [
    {
     "name": "stdout",
     "output_type": "stream",
     "text": [
      "this is my string ('ahebfuygdsb', 'sbuysfubc', 'davgdyvcd', 'diiduyvuasvcde')\n"
     ]
    }
   ],
   "source": [
    "print(f\"this is my string\",my_list)"
   ]
  },
  {
   "cell_type": "code",
   "execution_count": null,
   "id": "225a3b37-98b0-4eff-a3d9-d08ffa2c2f3f",
   "metadata": {},
   "outputs": [],
   "source": []
  }
 ],
 "metadata": {
  "kernelspec": {
   "display_name": "Python 3 (ipykernel)",
   "language": "python",
   "name": "python3"
  },
  "language_info": {
   "codemirror_mode": {
    "name": "ipython",
    "version": 3
   },
   "file_extension": ".py",
   "mimetype": "text/x-python",
   "name": "python",
   "nbconvert_exporter": "python",
   "pygments_lexer": "ipython3",
   "version": "3.11.7"
  }
 },
 "nbformat": 4,
 "nbformat_minor": 5
}

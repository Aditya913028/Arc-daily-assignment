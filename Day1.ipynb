{
 "cells": [
  {
   "cell_type": "code",
   "execution_count": 1,
   "id": "b57877dc-2e48-4e82-abe7-87f281ad5f6c",
   "metadata": {},
   "outputs": [
    {
     "name": "stdout",
     "output_type": "stream",
     "text": [
      "(5, 10, 15, 20, 25)\n"
     ]
    }
   ],
   "source": [
    "number = (5, 10, 15, 20, 25)\n",
    "print(number)"
   ]
  },
  {
   "cell_type": "code",
   "execution_count": 2,
   "id": "73a635e0-9ac2-4a46-bbb7-ac197fb5b835",
   "metadata": {},
   "outputs": [],
   "source": [
    "# average "
   ]
  },
  {
   "cell_type": "code",
   "execution_count": 3,
   "id": "8bd49c00-63db-4f63-be48-21f0518fe9f8",
   "metadata": {},
   "outputs": [],
   "source": [
    "numbers = [20, 25, 30, 35, 40]"
   ]
  },
  {
   "cell_type": "code",
   "execution_count": 4,
   "id": "9c04a3b0-6e10-4114-8080-9c570e622fe6",
   "metadata": {},
   "outputs": [],
   "source": [
    "total_sum = sum(numbers)"
   ]
  },
  {
   "cell_type": "code",
   "execution_count": 5,
   "id": "07db6c11-6dda-4919-a91e-a350570277ee",
   "metadata": {},
   "outputs": [],
   "source": [
    "count = len(numbers)"
   ]
  },
  {
   "cell_type": "code",
   "execution_count": 6,
   "id": "f93641a0-7033-4a60-9384-1a05b177532b",
   "metadata": {},
   "outputs": [],
   "source": [
    "average = total_sum / count"
   ]
  },
  {
   "cell_type": "code",
   "execution_count": 7,
   "id": "c1321b4f-9615-45c5-8bd3-8f81b8e8d319",
   "metadata": {},
   "outputs": [
    {
     "name": "stdout",
     "output_type": "stream",
     "text": [
      "The average is: 30.0\n"
     ]
    }
   ],
   "source": [
    "print(f\"The average is:\", average)"
   ]
  },
  {
   "cell_type": "code",
   "execution_count": 8,
   "id": "bf820abe-23d8-44d9-ade8-645c08fcc161",
   "metadata": {},
   "outputs": [],
   "source": [
    "# Minimum"
   ]
  },
  {
   "cell_type": "code",
   "execution_count": 9,
   "id": "24381ae3-2cab-43a2-9da2-e5c6259123ec",
   "metadata": {},
   "outputs": [],
   "source": [
    "num = ( 925,12556,8455,41941,511,47987,8589,231561,8212517,50215210)"
   ]
  },
  {
   "cell_type": "code",
   "execution_count": 10,
   "id": "259f1ce8-5056-40c1-8beb-86b3d169cb47",
   "metadata": {},
   "outputs": [
    {
     "data": {
      "text/plain": [
       "511"
      ]
     },
     "execution_count": 10,
     "metadata": {},
     "output_type": "execute_result"
    }
   ],
   "source": [
    "min(num)"
   ]
  },
  {
   "cell_type": "code",
   "execution_count": 11,
   "id": "e4ccd942-f40e-4620-9596-41195d251db4",
   "metadata": {},
   "outputs": [
    {
     "data": {
      "text/plain": [
       "50215210"
      ]
     },
     "execution_count": 11,
     "metadata": {},
     "output_type": "execute_result"
    }
   ],
   "source": [
    "max(num)"
   ]
  },
  {
   "cell_type": "code",
   "execution_count": 12,
   "id": "55f535ac-21e0-40e7-ad8b-f776a785a553",
   "metadata": {},
   "outputs": [],
   "source": [
    "my_list = (\"ahebfuygdsb\",\"sbuysfubc\",\"davgdyvcd\",\"diiduyvuasvcde\")"
   ]
  },
  {
   "cell_type": "code",
   "execution_count": 13,
   "id": "17e10868-2eaf-4bf5-af01-3d4359acc6dd",
   "metadata": {},
   "outputs": [
    {
     "name": "stdout",
     "output_type": "stream",
     "text": [
      "('ahebfuygdsb', 'sbuysfubc', 'davgdyvcd', 'diiduyvuasvcde')\n"
     ]
    }
   ],
   "source": [
    "print(my_list)"
   ]
  },
  {
   "cell_type": "code",
   "execution_count": 14,
   "id": "70c7a3e4-beae-48eb-9acd-2bdf8c6a348f",
   "metadata": {},
   "outputs": [],
   "source": [
    "my_list = (\"ahebfuygdsb\",\"sbuysfubc\",\"davgdyvcd\",\"diiduyvuasvcde\")"
   ]
  },
  {
   "cell_type": "code",
   "execution_count": 19,
   "id": "76c1399e-8fc1-4539-9a55-ca621862b2a4",
   "metadata": {},
   "outputs": [
    {
     "name": "stdout",
     "output_type": "stream",
     "text": [
      "this is my string: ('ahebfuygdsb', 'sbuysfubc', 'davgdyvcd', 'diiduyvuasvcde')\n"
     ]
    }
   ],
   "source": [
    "print(f\"this is my string:\",my_list)"
   ]
  },
  {
   "cell_type": "code",
   "execution_count": null,
   "id": "e3342704-d1f9-43b7-a25f-9287fbe268a0",
   "metadata": {},
   "outputs": [],
   "source": []
  }
 ],
 "metadata": {
  "kernelspec": {
   "display_name": "Python 3 (ipykernel)",
   "language": "python",
   "name": "python3"
  },
  "language_info": {
   "codemirror_mode": {
    "name": "ipython",
    "version": 3
   },
   "file_extension": ".py",
   "mimetype": "text/x-python",
   "name": "python",
   "nbconvert_exporter": "python",
   "pygments_lexer": "ipython3",
   "version": "3.11.7"
  }
 },
 "nbformat": 4,
 "nbformat_minor": 5
}
